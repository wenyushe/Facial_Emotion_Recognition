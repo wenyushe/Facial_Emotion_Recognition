{
 "cells": [
  {
   "cell_type": "code",
   "execution_count": null,
   "id": "4adacf75",
   "metadata": {},
   "outputs": [],
   "source": [
    "import boto3\n",
    "import sagemaker\n",
    "from sagemaker import get_execution_role\n",
    "from sagemaker.image_uris import retrieve\n",
    "\n",
    "sess = sagemaker.Session()\n",
    "role = get_execution_role()\n",
    "\n",
    "bucket = sess.default_bucket()\n",
    "\n",
    "training_image = retrieve(\"image-classification\", boto3.Session().region_name, \"1\")\n",
    "print(training_image)"
   ]
  },
  {
   "cell_type": "markdown",
   "id": "1e7c4e6f",
   "metadata": {},
   "source": [
    "### Import Data from S3"
   ]
  },
  {
   "cell_type": "code",
   "execution_count": null,
   "id": "045397be",
   "metadata": {},
   "outputs": [],
   "source": [
    "s3_train_key = \"images/train\"\n",
    "s3_validation_key = \"images/test\"\n",
    "\n",
    "# Retrieve data from S3\n",
    "s3_train_data = \"s3://{}/{}/\".format(bucket, s3_train_key)\n",
    "s3_validation_data = \"s3://{}/{}/\".format(bucket, s3_validation_key)\n",
    "\n",
    "# Path where tuned hyperparameters are stored after fitting?\n",
    "s3_output_key = \"image-classification-full-training/output\"\n",
    "s3_output = \"s3://{}/{}/\".format(bucket, s3_output_key)\n",
    "\n",
    "s3_input_train = sagemaker.TrainingInput(\n",
    "    s3_data=s3_train_data, content_type=\"image/jpeg\"\n",
    ")\n",
    "s3_input_validation = sagemaker.TrainingInput(\n",
    "    s3_data=s3_validation_data, content_type=\"image/jpeg\"\n",
    ")"
   ]
  },
  {
   "cell_type": "code",
   "execution_count": null,
   "id": "95a1b2e9",
   "metadata": {},
   "outputs": [],
   "source": [
    "s3_output"
   ]
  },
  {
   "cell_type": "markdown",
   "id": "28d56e5e",
   "metadata": {},
   "source": [
    "### Setting parameters"
   ]
  },
  {
   "cell_type": "code",
   "execution_count": null,
   "id": "58b842a1",
   "metadata": {},
   "outputs": [],
   "source": [
    "sess = sagemaker.Session()\n",
    "imageclassification = sagemaker.estimator.Estimator(\n",
    "    training_image,\n",
    "    role,\n",
    "    instance_count=1,\n",
    "    instance_type=\"ml.m5.4xlarge\",\n",
    "#     instance_type=\"ml.p3.2xlarge\",\n",
    "    output_path=s3_output,\n",
    "    sagemaker_session=sess,\n",
    ")\n",
    "\n",
    "imageclassification.set_hyperparameters(\n",
    "    num_layers=18,\n",
    "    image_shape=\"3,48,48\",\n",
    "    num_classes=7,\n",
    "    epochs=25,\n",
    "    top_k=\"2\",\n",
    "#     num_training_samples=15420,\n",
    "    precision_dtype=\"float32\",\n",
    "    augmentation_type=\"crop_color_transform\",\n",
    ")"
   ]
  },
  {
   "cell_type": "markdown",
   "id": "de92eb71",
   "metadata": {},
   "source": [
    "### Hyperparmeters"
   ]
  },
  {
   "cell_type": "code",
   "execution_count": null,
   "id": "80165a88",
   "metadata": {},
   "outputs": [],
   "source": [
    "from time import gmtime, strftime\n",
    "from sagemaker.tuner import (\n",
    "    IntegerParameter,\n",
    "    CategoricalParameter,\n",
    "    ContinuousParameter,\n",
    "    HyperparameterTuner,\n",
    ")\n",
    "\n",
    "tuning_job_name = \"imageclassif-job-{}\".format(strftime(\"%d-%H-%M-%S\", gmtime()))\n",
    "\n",
    "hyperparameter_ranges = {\n",
    "    \"learning_rate\": ContinuousParameter(0.0001, 0.1),\n",
    "    \"mini_batch_size\": IntegerParameter(16, 64),\n",
    "    \"optimizer\": CategoricalParameter([\"sgd\", \"adam\", \"rmsprop\", \"nag\"]),\n",
    "}\n",
    "\n",
    "objective_metric_name = \"validation:accuracy\"\n",
    "\n",
    "tuner = HyperparameterTuner(\n",
    "    imageclassification,\n",
    "    objective_metric_name,\n",
    "    hyperparameter_ranges,\n",
    "    objective_type=\"Maximize\",\n",
    "    max_jobs=10,\n",
    "    max_parallel_jobs=2,\n",
    "    early_stopping_type=\"Auto\",\n",
    ")"
   ]
  },
  {
   "cell_type": "markdown",
   "id": "edaf02fb",
   "metadata": {},
   "source": [
    "### Training"
   ]
  },
  {
   "cell_type": "code",
   "execution_count": null,
   "id": "16d2d9e9",
   "metadata": {},
   "outputs": [],
   "source": [
    "tuner.fit(\n",
    "    {\"train\": s3_input_train, \"validation\": s3_input_validation},\n",
    "    job_name=tuning_job_name,\n",
    "    include_cls_metadata=False,\n",
    ")\n",
    "tuner.wait()"
   ]
  },
  {
   "cell_type": "markdown",
   "id": "abcc5a38",
   "metadata": {},
   "source": [
    "### Top 5 training jobs"
   ]
  },
  {
   "cell_type": "code",
   "execution_count": null,
   "id": "268bc160",
   "metadata": {},
   "outputs": [],
   "source": [
    "tuner_metrics = sagemaker.HyperparameterTuningJobAnalytics(tuning_job)\n",
    "tuner_metrics.dataframe().sort_values([\"FinalObjectiveValue\"], ascending=False).head(5)"
   ]
  }
 ],
 "metadata": {
  "kernelspec": {
   "display_name": "conda_python3",
   "language": "python",
   "name": "conda_python3"
  },
  "language_info": {
   "codemirror_mode": {
    "name": "ipython",
    "version": 3
   },
   "file_extension": ".py",
   "mimetype": "text/x-python",
   "name": "python",
   "nbconvert_exporter": "python",
   "pygments_lexer": "ipython3",
   "version": "3.6.13"
  }
 },
 "nbformat": 4,
 "nbformat_minor": 5
}
