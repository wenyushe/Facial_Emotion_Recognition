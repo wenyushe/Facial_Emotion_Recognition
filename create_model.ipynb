{
 "cells": [
  {
   "cell_type": "markdown",
   "metadata": {},
   "source": [
    "# Facial Emotion Recognition Project"
   ]
  },
  {
   "cell_type": "markdown",
   "metadata": {},
   "source": [
    "### Imports/Setup"
   ]
  },
  {
   "cell_type": "code",
   "execution_count": 1,
   "metadata": {},
   "outputs": [],
   "source": [
    "# Imports\n",
    "from tensorflow import keras\n",
    "from tensorflow.keras.layers.experimental import preprocessing\n",
    "from tensorflow.keras.preprocessing import image_dataset_from_directory\n",
    "from tensorflow.keras.preprocessing.image import ImageDataGenerator\n",
    "from tensorflow.keras.models import Sequential\n",
    "\n",
    "import os, warnings\n",
    "import matplotlib.pyplot as plt\n",
    "from matplotlib import gridspec\n",
    "\n",
    "import numpy as np\n",
    "import tensorflow as tf\n",
    "\n",
    "# Set seed\n",
    "def set_seed(seed=31415):\n",
    "    np.random.seed(seed)\n",
    "    tf.random.set_seed(seed)\n",
    "    os.environ['PYTHONHASHSEED'] = str(seed)\n",
    "    os.environ['TF_DETERMINISTIC_OPS'] = '1'\n",
    "set_seed()\n",
    "\n",
    "# Set Matplotlib defaults\n",
    "plt.rc('figure', autolayout=True)\n",
    "plt.rc('axes', labelweight='bold', labelsize='large',\n",
    "       titleweight='bold', titlesize=18, titlepad=10)\n",
    "plt.rc('image', cmap='magma')\n",
    "warnings.filterwarnings(\"ignore\") # to clean up output cells"
   ]
  },
  {
   "cell_type": "markdown",
   "metadata": {},
   "source": [
    "### Load data"
   ]
  },
  {
   "cell_type": "code",
   "execution_count": 3,
   "metadata": {},
   "outputs": [
    {
     "name": "stdout",
     "output_type": "stream",
     "text": [
      "Found 28821 files belonging to 7 classes.\n",
      "Using 20175 files for training.\n",
      "Found 28821 files belonging to 7 classes.\n",
      "Using 8646 files for validation.\n"
     ]
    }
   ],
   "source": [
    "# Training and validation data\n",
    "ds_train_ = image_dataset_from_directory(\n",
    "    'images/train',\n",
    "    labels='inferred',\n",
    "    label_mode='categorical',\n",
    "    image_size=[48, 48],\n",
    "    interpolation='nearest',\n",
    "    seed=31415,\n",
    "    validation_split=0.3,\n",
    "    subset='training',\n",
    "    shuffle=True\n",
    ")\n",
    "ds_valid_ = image_dataset_from_directory(\n",
    "    'images/train',\n",
    "    labels='inferred',\n",
    "    label_mode='categorical',\n",
    "    image_size=[48, 48],\n",
    "    interpolation='nearest',\n",
    "    seed=31415,\n",
    "    validation_split=0.3,\n",
    "    subset='validation',\n",
    "    shuffle=False\n",
    ")"
   ]
  },
  {
   "cell_type": "code",
   "execution_count": 11,
   "metadata": {},
   "outputs": [
    {
     "name": "stdout",
     "output_type": "stream",
     "text": [
      "Found 7066 files belonging to 7 classes.\n"
     ]
    }
   ],
   "source": [
    "ds_test_ = image_dataset_from_directory(\n",
    "    'images/test',\n",
    "    labels='inferred',\n",
    "    label_mode='categorical',\n",
    "    image_size=[48, 48],\n",
    "    interpolation='nearest',\n",
    "    shuffle=True\n",
    ")"
   ]
  },
  {
   "cell_type": "code",
   "execution_count": 12,
   "metadata": {},
   "outputs": [],
   "source": [
    "# Data Pipeline\n",
    "def convert_to_float(image, label):\n",
    "    image = tf.image.convert_image_dtype(image, dtype=tf.float32)\n",
    "    return image, label\n",
    "\n",
    "AUTOTUNE = tf.data.experimental.AUTOTUNE\n",
    "ds_train = (\n",
    "    ds_train_\n",
    "    .map(convert_to_float)\n",
    "    .cache()\n",
    "    .prefetch(buffer_size=AUTOTUNE)\n",
    ")\n",
    "ds_valid = (\n",
    "    ds_valid_\n",
    "    .map(convert_to_float)\n",
    "    .cache()\n",
    "    .prefetch(buffer_size=AUTOTUNE)\n",
    ")\n",
    "ds_test = (\n",
    "    ds_test_\n",
    "    .map(convert_to_float)\n",
    "    .cache()\n",
    "    .prefetch(buffer_size=AUTOTUNE)\n",
    ")"
   ]
  },
  {
   "cell_type": "markdown",
   "metadata": {},
   "source": [
    "### Model"
   ]
  },
  {
   "cell_type": "code",
   "execution_count": 7,
   "metadata": {},
   "outputs": [],
   "source": [
    "from tensorflow import keras\n",
    "from tensorflow.keras import layers\n",
    "\n",
    "model = keras.Sequential([\n",
    "    layers.InputLayer(input_shape=[48, 48, 3]),\n",
    "    \n",
    "    # Preprocessing (Data Augmentation)\n",
    "    preprocessing.RandomContrast(factor=0.10),\n",
    "    preprocessing.RandomFlip(mode='horizontal'),\n",
    "    preprocessing.RandomRotation(factor=0.10),\n",
    "\n",
    "    # Block One\n",
    "    layers.BatchNormalization(renorm=True),\n",
    "    layers.Conv2D(filters=32, kernel_size=3, activation='relu', padding='same'),\n",
    "    layers.MaxPool2D(),\n",
    "\n",
    "    # Block Two\n",
    "    layers.BatchNormalization(renorm=True),\n",
    "    layers.Conv2D(filters=64, kernel_size=3, activation='relu', padding='same'),\n",
    "    layers.MaxPool2D(),\n",
    "\n",
    "    # Block Three\n",
    "    layers.BatchNormalization(renorm=True),\n",
    "    layers.Conv2D(filters=128, kernel_size=3, activation='relu', padding='same'),\n",
    "    layers.Conv2D(filters=128, kernel_size=3, activation='relu', padding='same'),\n",
    "    layers.MaxPool2D(),\n",
    "\n",
    "    # Head\n",
    "    layers.BatchNormalization(renorm=True),\n",
    "    layers.Flatten(),\n",
    "    layers.Dense(8, activation='relu'),\n",
    "    layers.Dense(7, activation='softmax'),\n",
    "])"
   ]
  },
  {
   "cell_type": "markdown",
   "metadata": {},
   "source": [
    "### Optimizer and loss function"
   ]
  },
  {
   "cell_type": "code",
   "execution_count": 8,
   "metadata": {},
   "outputs": [
    {
     "name": "stdout",
     "output_type": "stream",
     "text": [
      "Epoch 1/10\n",
      "WARNING:tensorflow:Using a while_loop for converting RngReadAndSkip\n",
      "WARNING:tensorflow:Using a while_loop for converting Bitcast\n",
      "WARNING:tensorflow:Using a while_loop for converting Bitcast\n",
      "WARNING:tensorflow:Using a while_loop for converting StatelessRandomUniformFullIntV2\n",
      "WARNING:tensorflow:Using a while_loop for converting StatelessRandomGetKeyCounter\n",
      "WARNING:tensorflow:Using a while_loop for converting StatelessRandomUniformV2\n",
      "WARNING:tensorflow:Using a while_loop for converting AdjustContrastv2\n",
      "WARNING:tensorflow:Using a while_loop for converting RngReadAndSkip\n",
      "WARNING:tensorflow:Using a while_loop for converting Bitcast\n",
      "WARNING:tensorflow:Using a while_loop for converting Bitcast\n",
      "WARNING:tensorflow:Using a while_loop for converting StatelessRandomUniformFullIntV2\n",
      "WARNING:tensorflow:Using a while_loop for converting StatelessRandomGetKeyCounter\n",
      "WARNING:tensorflow:Using a while_loop for converting StatelessRandomUniformV2\n",
      "WARNING:tensorflow:Using a while_loop for converting AdjustContrastv2\n",
      "631/631 [==============================] - 135s 205ms/step - loss: 1.8861 - categorical_accuracy: 0.2430 - val_loss: 1.9366 - val_categorical_accuracy: 6.9396e-04\n",
      "Epoch 2/10\n",
      "631/631 [==============================] - 79s 125ms/step - loss: 1.7870 - categorical_accuracy: 0.2528 - val_loss: 1.8718 - val_categorical_accuracy: 0.0946\n",
      "Epoch 3/10\n",
      "631/631 [==============================] - 80s 127ms/step - loss: 1.6536 - categorical_accuracy: 0.3230 - val_loss: 1.5746 - val_categorical_accuracy: 0.3403\n",
      "Epoch 4/10\n",
      "631/631 [==============================] - 79s 126ms/step - loss: 1.5222 - categorical_accuracy: 0.3820 - val_loss: 1.4604 - val_categorical_accuracy: 0.4094\n",
      "Epoch 5/10\n",
      "631/631 [==============================] - 80s 126ms/step - loss: 1.4522 - categorical_accuracy: 0.4116 - val_loss: 1.4417 - val_categorical_accuracy: 0.4676\n",
      "Epoch 6/10\n",
      "631/631 [==============================] - 91s 144ms/step - loss: 1.4000 - categorical_accuracy: 0.4336 - val_loss: 1.3786 - val_categorical_accuracy: 0.4960\n",
      "Epoch 7/10\n",
      "631/631 [==============================] - 80s 127ms/step - loss: 1.3759 - categorical_accuracy: 0.4457 - val_loss: 1.3556 - val_categorical_accuracy: 0.4580\n",
      "Epoch 8/10\n",
      "631/631 [==============================] - 80s 127ms/step - loss: 1.3404 - categorical_accuracy: 0.4568 - val_loss: 1.3906 - val_categorical_accuracy: 0.4425\n",
      "Epoch 9/10\n",
      "631/631 [==============================] - 81s 128ms/step - loss: 1.3223 - categorical_accuracy: 0.4688 - val_loss: 1.3650 - val_categorical_accuracy: 0.4573\n",
      "Epoch 10/10\n",
      "631/631 [==============================] - 79s 125ms/step - loss: 1.3107 - categorical_accuracy: 0.4777 - val_loss: 1.3148 - val_categorical_accuracy: 0.4979\n"
     ]
    },
    {
     "data": {
      "image/png": "[encoded data removed]",
      "text/plain": [
       "<Figure size 432x288 with 1 Axes>"
      ]
     },
     "metadata": {
      "needs_background": "light"
     },
     "output_type": "display_data"
    },
    {
     "data": {
      "image/png": "[encoded data removed]",
      "text/plain": [
       "<Figure size 432x288 with 1 Axes>"
      ]
     },
     "metadata": {
      "needs_background": "light"
     },
     "output_type": "display_data"
    }
   ],
   "source": [
    "optimizer = tf.keras.optimizers.Adam(epsilon=0.01)\n",
    "model.compile(\n",
    "    optimizer=optimizer,\n",
    "    loss='categorical_crossentropy',\n",
    "    metrics=['categorical_accuracy'],\n",
    ")\n",
    "\n",
    "history = model.fit(\n",
    "    ds_train,\n",
    "    validation_data=ds_valid,\n",
    "    epochs=10,\n",
    ")\n",
    "\n",
    "# Plot learning curves\n",
    "import pandas as pd\n",
    "history_frame = pd.DataFrame(history.history)\n",
    "history_frame.loc[:, ['loss', 'val_loss']].plot()\n",
    "history_frame.loc[:, ['categorical_accuracy', 'val_categorical_accuracy']].plot();"
   ]
  },
  {
   "cell_type": "code",
   "execution_count": 13,
   "metadata": {},
   "outputs": [
    {
     "name": "stdout",
     "output_type": "stream",
     "text": [
      "221/221 [==============================] - 16s 68ms/step\n"
     ]
    }
   ],
   "source": [
    "predictions = model.predict(ds_test_)"
   ]
  },
  {
   "cell_type": "code",
   "execution_count": 24,
   "metadata": {},
   "outputs": [
    {
     "data": {
      "text/plain": [
       "7066"
      ]
     },
     "execution_count": 24,
     "metadata": {},
     "output_type": "execute_result"
    }
   ],
   "source": [
    "from sklearn.metrics import confusion_matrix\n",
    "# ds_test_.class_names\n",
    "type(ds_test_)\n",
    "# cm=confusion_matrix(predictions,ds_test_.class_names)\n",
    "# print(cm)"
   ]
  }
 ],
 "metadata": {
  "kernelspec": {
   "display_name": "Python 3.8.12 ('base')",
   "language": "python",
   "name": "python3"
  },
  "language_info": {
   "codemirror_mode": {
    "name": "ipython",
    "version": 3
   },
   "file_extension": ".py",
   "mimetype": "text/x-python",
   "name": "python",
   "nbconvert_exporter": "python",
   "pygments_lexer": "ipython3",
   "version": "3.8.12"
  },
  "orig_nbformat": 4,
  "vscode": {
   "interpreter": {
    "hash": "3eb0a64534b5445cc437f049ee8f0b4de335c719ef5a3378c563bfc513fc2947"
   }
  }
 },
 "nbformat": 4,
 "nbformat_minor": 2
}
