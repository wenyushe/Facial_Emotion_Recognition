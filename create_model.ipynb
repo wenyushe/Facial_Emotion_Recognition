{
 "cells": [
  {
   "cell_type": "markdown",
   "metadata": {},
   "source": [
    "# Facial Emotion Recognition Project"
   ]
  },
  {
   "cell_type": "markdown",
   "metadata": {},
   "source": [
    "### Imports/Setup"
   ]
  },
  {
   "cell_type": "code",
   "execution_count": 1,
   "metadata": {},
   "outputs": [],
   "source": [
    "# Imports\n",
    "from tensorflow import keras\n",
    "from tensorflow.keras.layers.experimental import preprocessing\n",
    "from tensorflow.keras.preprocessing import image_dataset_from_directory\n",
    "from tensorflow.keras.preprocessing.image import ImageDataGenerator\n",
    "from tensorflow.keras.models import Sequential\n",
    "from keras.layers import Dense, Conv2D, MaxPool2D , Flatten, Dropout\n",
    "\n",
    "\n",
    "import os, warnings\n",
    "import matplotlib.pyplot as plt\n",
    "from matplotlib import gridspec\n",
    "\n",
    "import numpy as np\n",
    "import tensorflow as tf\n",
    "\n",
    "# Set seed\n",
    "def set_seed(seed=31415):\n",
    "    np.random.seed(seed)\n",
    "    tf.random.set_seed(seed)\n",
    "    os.environ['PYTHONHASHSEED'] = str(seed)\n",
    "    os.environ['TF_DETERMINISTIC_OPS'] = '1'\n",
    "set_seed()\n",
    "\n",
    "# Set Matplotlib defaults\n",
    "plt.rc('figure', autolayout=True)\n",
    "plt.rc('axes', labelweight='bold', labelsize='large',\n",
    "       titleweight='bold', titlesize=18, titlepad=10)\n",
    "plt.rc('image', cmap='magma')\n",
    "warnings.filterwarnings(\"ignore\") # to clean up output cells"
   ]
  },
  {
   "cell_type": "markdown",
   "metadata": {},
   "source": [
    "### Load data"
   ]
  },
  {
   "cell_type": "code",
   "execution_count": 30,
   "metadata": {},
   "outputs": [
    {
     "name": "stdout",
     "output_type": "stream",
     "text": [
      "Found 28821 files belonging to 7 classes.\n",
      "Using 20175 files for training.\n",
      "Found 28821 files belonging to 7 classes.\n",
      "Using 8646 files for validation.\n",
      "Found 7066 files belonging to 7 classes.\n"
     ]
    }
   ],
   "source": [
    "# Training/validation/testing data\n",
    "ds_train_ = image_dataset_from_directory(\n",
    "    'images/train',\n",
    "    labels='inferred',\n",
    "    label_mode='categorical',\n",
    "    image_size=[48, 48],\n",
    "    color_mode='grayscale',\n",
    "    seed=31415,\n",
    "    validation_split=0.3,\n",
    "    subset='training',\n",
    "    shuffle=True\n",
    ")\n",
    "ds_valid_ = image_dataset_from_directory(\n",
    "    'images/train',\n",
    "    labels='inferred',\n",
    "    label_mode='categorical',\n",
    "    image_size=[48, 48],\n",
    "    color_mode='grayscale',\n",
    "    seed=31415,\n",
    "    validation_split=0.3,\n",
    "    subset='validation',\n",
    "    shuffle=False\n",
    ")\n",
    "ds_test_ = image_dataset_from_directory(\n",
    "    'images/test',\n",
    "    labels='inferred',\n",
    "    label_mode='categorical',\n",
    "    image_size=[48, 48],\n",
    "    interpolation='nearest',\n",
    "    shuffle=True\n",
    ")"
   ]
  },
  {
   "cell_type": "code",
   "execution_count": 31,
   "metadata": {},
   "outputs": [],
   "source": [
    "# Data Pipeline\n",
    "def preprocess_image(image, label):\n",
    "    image = tf.image.resize(image, (48, 48))\n",
    "    image = tf.image.convert_image_dtype(image, dtype=tf.float32)\n",
    "    return image, label\n",
    "\n",
    "AUTOTUNE = tf.data.experimental.AUTOTUNE\n",
    "ds_train = (\n",
    "    ds_train_\n",
    "    .map(preprocess_image)\n",
    "    .cache()\n",
    "    .prefetch(buffer_size=AUTOTUNE)\n",
    ")\n",
    "ds_valid = (\n",
    "    ds_valid_\n",
    "    .map(preprocess_image)\n",
    "    .cache()\n",
    "    .prefetch(buffer_size=AUTOTUNE)\n",
    ")\n",
    "ds_test = (\n",
    "    ds_test_\n",
    "    .map(preprocess_image)\n",
    "    .cache()\n",
    "    .prefetch(buffer_size=AUTOTUNE)\n",
    ")"
   ]
  },
  {
   "cell_type": "markdown",
   "metadata": {},
   "source": [
    "### Data Augmentation"
   ]
  },
  {
   "cell_type": "code",
   "execution_count": 71,
   "metadata": {},
   "outputs": [],
   "source": [
    "from tensorflow.keras import layers\n",
    "data_augmentation = tf.keras.Sequential([\n",
    "  layers.RandomFlip(\"horizontal\"),\n",
    "  layers.RandomRotation(0.1),\n",
    "  # layers.RandomContrast([0, 255])\n",
    "])"
   ]
  },
  {
   "cell_type": "markdown",
   "metadata": {},
   "source": [
    "### Model based on VGG-16"
   ]
  },
  {
   "cell_type": "code",
   "execution_count": 72,
   "metadata": {},
   "outputs": [],
   "source": [
    "# Sequential modeel\n",
    "model = Sequential()\n",
    "\n",
    "# Data augmentation\n",
    "model.add(data_augmentation)\n",
    "\n",
    "# Block 1\n",
    "model.add(Conv2D(input_shape=(48,48,1),filters=64,kernel_size=(3,3),padding=\"same\", activation=\"relu\"))\n",
    "model.add(Conv2D(filters=64,kernel_size=(3,3),padding=\"same\", activation=\"relu\"))\n",
    "model.add(MaxPool2D(pool_size=(2,2),strides=(2,2)))\n",
    "model.add(Dropout(0.1))\n",
    "\n",
    "# Block 2\n",
    "model.add(Conv2D(filters=128, kernel_size=(3,3), padding=\"same\", activation=\"relu\"))\n",
    "model.add(Conv2D(filters=128, kernel_size=(3,3), padding=\"same\", activation=\"relu\"))\n",
    "model.add(MaxPool2D(pool_size=(2,2),strides=(2,2)))\n",
    "model.add(Dropout(0.1))\n",
    "\n",
    "\n",
    "# Block 3\n",
    "model.add(Conv2D(filters=256, kernel_size=(3,3), padding=\"same\", activation=\"relu\"))\n",
    "model.add(MaxPool2D(pool_size=(2,2),strides=(2,2)))\n",
    "model.add(Dropout(0.1))\n",
    "\n",
    "\n",
    "# Block 4\n",
    "model.add(Conv2D(filters=512, kernel_size=(3,3), padding=\"same\", activation=\"relu\"))\n",
    "model.add(Conv2D(filters=512, kernel_size=(3,3), padding=\"same\", activation=\"relu\"))\n",
    "model.add(MaxPool2D(pool_size=(2,2),strides=(2,2)))\n",
    "\n",
    "# Classification head\n",
    "model.add(Flatten())\n",
    "model.add(Dropout(0.5))\n",
    "model.add(Dense(units=128,activation=\"relu\"))\n",
    "model.add(Dense(units=7,activation=\"softmax\"))"
   ]
  },
  {
   "cell_type": "markdown",
   "metadata": {},
   "source": [
    "### Model based on EfficientNet"
   ]
  },
  {
   "cell_type": "code",
   "execution_count": 70,
   "metadata": {},
   "outputs": [],
   "source": [
    "from tensorflow.keras.applications import EfficientNetB4\n",
    "Emodel = EfficientNetB4(include_top=False, input_shape=(48,48,3), pooling=\"max\", weights='imagenet')\n",
    "\n",
    "model = Sequential()\n",
    "model.add(Emodel)\n",
    "model.add(Flatten())\n",
    "model.add(Dense(units=128,activation=\"relu\"))\n",
    "model.add(Dropout(0.5))\n",
    "model.add(Dense(units=128,activation=\"relu\"))\n",
    "model.add(Dense(units=7,activation=\"softmax\"))\n"
   ]
  },
  {
   "cell_type": "markdown",
   "metadata": {},
   "source": [
    "### Model Summary"
   ]
  },
  {
   "cell_type": "code",
   "execution_count": null,
   "metadata": {},
   "outputs": [],
   "source": [
    "model.summary()"
   ]
  },
  {
   "cell_type": "markdown",
   "metadata": {},
   "source": [
    "### Optimizer and loss function"
   ]
  },
  {
   "cell_type": "code",
   "execution_count": 73,
   "metadata": {},
   "outputs": [],
   "source": [
    "optimizer = tf.keras.optimizers.Adam(epsilon=0.01)\n",
    "model.compile(\n",
    "    optimizer=optimizer,\n",
    "    loss='categorical_crossentropy',\n",
    "    metrics=['accuracy'],\n",
    ")"
   ]
  },
  {
   "cell_type": "markdown",
   "metadata": {},
   "source": [
    "### Early Stopping"
   ]
  },
  {
   "cell_type": "code",
   "execution_count": 74,
   "metadata": {},
   "outputs": [],
   "source": [
    "from keras.callbacks import ModelCheckpoint, EarlyStopping\n",
    "\n",
    "# early stopping\n",
    "es = EarlyStopping(monitor='val_accuracy', min_delta= 0.01 , patience= 5, verbose= 1, mode='auto')\n",
    "\n",
    "# model check point\n",
    "mc = ModelCheckpoint(filepath=\"models/eNet_model.h5\", monitor= 'val_accuracy', verbose= 1, save_best_only= True, mode = 'auto')\n",
    "\n",
    "# puting call back in a list \n",
    "call_back = [es, mc]"
   ]
  },
  {
   "cell_type": "markdown",
   "metadata": {},
   "source": [
    "### Training model + Plot learning curves"
   ]
  },
  {
   "cell_type": "code",
   "execution_count": 75,
   "metadata": {},
   "outputs": [
    {
     "name": "stdout",
     "output_type": "stream",
     "text": [
      "Epoch 1/25\n",
      "631/631 [==============================] - ETA: 0s - loss: 1.8629 - accuracy: 0.2470\n",
      "Epoch 1: val_accuracy improved from -inf to 0.00000, saving model to models\\eNet_model.h5\n",
      "631/631 [==============================] - 539s 852ms/step - loss: 1.8629 - accuracy: 0.2470 - val_loss: 1.9530 - val_accuracy: 0.0000e+00\n",
      "Epoch 2/25\n",
      "631/631 [==============================] - ETA: 0s - loss: 1.7932 - accuracy: 0.2564\n",
      "Epoch 2: val_accuracy improved from 0.00000 to 0.06014, saving model to models\\eNet_model.h5\n",
      "631/631 [==============================] - 526s 834ms/step - loss: 1.7932 - accuracy: 0.2564 - val_loss: 1.9677 - val_accuracy: 0.0601\n",
      "Epoch 3/25\n",
      "631/631 [==============================] - ETA: 0s - loss: 1.7264 - accuracy: 0.2943\n",
      "Epoch 3: val_accuracy improved from 0.06014 to 0.20090, saving model to models\\eNet_model.h5\n",
      "631/631 [==============================] - 522s 828ms/step - loss: 1.7264 - accuracy: 0.2943 - val_loss: 1.7320 - val_accuracy: 0.2009\n",
      "Epoch 4/25\n",
      "631/631 [==============================] - ETA: 0s - loss: 1.6538 - accuracy: 0.3338\n",
      "Epoch 4: val_accuracy improved from 0.20090 to 0.28638, saving model to models\\eNet_model.h5\n",
      "631/631 [==============================] - 513s 813ms/step - loss: 1.6538 - accuracy: 0.3338 - val_loss: 1.7456 - val_accuracy: 0.2864\n",
      "Epoch 5/25\n",
      "631/631 [==============================] - ETA: 0s - loss: 1.5067 - accuracy: 0.4126\n",
      "Epoch 5: val_accuracy did not improve from 0.28638\n",
      "631/631 [==============================] - 510s 809ms/step - loss: 1.5067 - accuracy: 0.4126 - val_loss: 1.7261 - val_accuracy: 0.2613\n",
      "Epoch 6/25\n",
      "631/631 [==============================] - ETA: 0s - loss: 1.3999 - accuracy: 0.4610\n",
      "Epoch 6: val_accuracy improved from 0.28638 to 0.42632, saving model to models\\eNet_model.h5\n",
      "631/631 [==============================] - 526s 834ms/step - loss: 1.3999 - accuracy: 0.4610 - val_loss: 1.4300 - val_accuracy: 0.4263\n",
      "Epoch 7/25\n",
      "631/631 [==============================] - ETA: 0s - loss: 1.3437 - accuracy: 0.4820\n",
      "Epoch 7: val_accuracy improved from 0.42632 to 0.45674, saving model to models\\eNet_model.h5\n",
      "631/631 [==============================] - 463s 734ms/step - loss: 1.3437 - accuracy: 0.4820 - val_loss: 1.4417 - val_accuracy: 0.4567\n",
      "Epoch 8/25\n",
      "631/631 [==============================] - ETA: 0s - loss: 1.2944 - accuracy: 0.5037\n",
      "Epoch 8: val_accuracy improved from 0.45674 to 0.49375, saving model to models\\eNet_model.h5\n",
      "631/631 [==============================] - 473s 750ms/step - loss: 1.2944 - accuracy: 0.5037 - val_loss: 1.3418 - val_accuracy: 0.4938\n",
      "Epoch 9/25\n",
      "631/631 [==============================] - ETA: 0s - loss: 1.2603 - accuracy: 0.5175\n",
      "Epoch 9: val_accuracy improved from 0.49375 to 0.53609, saving model to models\\eNet_model.h5\n",
      "631/631 [==============================] - 455s 721ms/step - loss: 1.2603 - accuracy: 0.5175 - val_loss: 1.2588 - val_accuracy: 0.5361\n",
      "Epoch 10/25\n",
      "631/631 [==============================] - ETA: 0s - loss: 1.2366 - accuracy: 0.5284\n",
      "Epoch 10: val_accuracy improved from 0.53609 to 0.55135, saving model to models\\eNet_model.h5\n",
      "631/631 [==============================] - 447s 709ms/step - loss: 1.2366 - accuracy: 0.5284 - val_loss: 1.2095 - val_accuracy: 0.5514\n",
      "Epoch 11/25\n",
      "631/631 [==============================] - ETA: 0s - loss: 1.2145 - accuracy: 0.5346\n",
      "Epoch 11: val_accuracy improved from 0.55135 to 0.55320, saving model to models\\eNet_model.h5\n",
      "631/631 [==============================] - 473s 750ms/step - loss: 1.2145 - accuracy: 0.5346 - val_loss: 1.2287 - val_accuracy: 0.5532\n",
      "Epoch 12/25\n",
      "631/631 [==============================] - ETA: 0s - loss: 1.1902 - accuracy: 0.5486\n",
      "Epoch 12: val_accuracy did not improve from 0.55320\n",
      "631/631 [==============================] - 489s 775ms/step - loss: 1.1902 - accuracy: 0.5486 - val_loss: 1.2252 - val_accuracy: 0.5428\n",
      "Epoch 13/25\n",
      "631/631 [==============================] - ETA: 0s - loss: 1.1694 - accuracy: 0.5557\n",
      "Epoch 13: val_accuracy did not improve from 0.55320\n",
      "631/631 [==============================] - 563s 892ms/step - loss: 1.1694 - accuracy: 0.5557 - val_loss: 1.3534 - val_accuracy: 0.4758\n",
      "Epoch 14/25\n",
      "631/631 [==============================] - ETA: 0s - loss: 1.1487 - accuracy: 0.5600\n",
      "Epoch 14: val_accuracy did not improve from 0.55320\n",
      "631/631 [==============================] - 501s 794ms/step - loss: 1.1487 - accuracy: 0.5600 - val_loss: 1.3122 - val_accuracy: 0.4735\n",
      "Epoch 15/25\n",
      "631/631 [==============================] - ETA: 0s - loss: 1.1424 - accuracy: 0.5649\n",
      "Epoch 15: val_accuracy did not improve from 0.55320\n",
      "631/631 [==============================] - 532s 842ms/step - loss: 1.1424 - accuracy: 0.5649 - val_loss: 1.3187 - val_accuracy: 0.4779\n",
      "Epoch 15: early stopping\n"
     ]
    },
    {
     "data": {
      "image/png": "[encoded data removed]",
      "text/plain": [
       "<Figure size 432x288 with 1 Axes>"
      ]
     },
     "metadata": {
      "needs_background": "light"
     },
     "output_type": "display_data"
    },
    {
     "data": {
      "image/png": "[encoded data removed]",
      "text/plain": [
       "<Figure size 432x288 with 1 Axes>"
      ]
     },
     "metadata": {
      "needs_background": "light"
     },
     "output_type": "display_data"
    }
   ],
   "source": [
    "history = model.fit(\n",
    "    ds_train_,\n",
    "    validation_data=ds_valid_,\n",
    "    epochs=25,\n",
    "    callbacks=[es,mc]\n",
    ")\n",
    "\n",
    "# Plot learning curves\n",
    "import pandas as pd\n",
    "history_frame = pd.DataFrame(history.history)\n",
    "history_frame.loc[:, ['loss', 'val_loss']].plot()\n",
    "history_frame.loc[:, ['accuracy', 'val_accuracy']].plot();"
   ]
  },
  {
   "cell_type": "markdown",
   "metadata": {},
   "source": [
    "### Saving model"
   ]
  },
  {
   "cell_type": "code",
   "execution_count": 40,
   "metadata": {},
   "outputs": [],
   "source": [
    "model.save('models/eNet_model.h5')"
   ]
  },
  {
   "cell_type": "markdown",
   "metadata": {},
   "source": [
    "### Loading model"
   ]
  },
  {
   "cell_type": "code",
   "execution_count": 12,
   "metadata": {},
   "outputs": [],
   "source": [
    "from keras.models import load_model\n",
    "model = load_model(\"emotion_model.h5\")"
   ]
  },
  {
   "cell_type": "code",
   "execution_count": null,
   "metadata": {},
   "outputs": [],
   "source": [
    "# predictions = model.predict(ds_test)\n",
    "metrics = model.evaluate(ds_test)\n",
    "metrics"
   ]
  },
  {
   "cell_type": "code",
   "execution_count": null,
   "metadata": {},
   "outputs": [
    {
     "name": "stdout",
     "output_type": "stream",
     "text": [
      "5186\n"
     ]
    }
   ],
   "source": [
    "from sklearn.metrics import classification_report,confusion_matrix\n",
    "predictions[:7]\n",
    "pred = predictions > 0.3\n",
    "# print(classification_report(list(ds_test.as_numpy_iterator()),pred))\n",
    "# cm=confusion_matrix(ds_test.class_names, pred)\n",
    "# print(cm)"
   ]
  },
  {
   "cell_type": "code",
   "execution_count": null,
   "metadata": {},
   "outputs": [],
   "source": [
    "print(list(ds_test.as_numpy_iterator())[0])"
   ]
  }
 ],
 "metadata": {
  "kernelspec": {
   "display_name": "Python 3.8.12 ('base')",
   "language": "python",
   "name": "python3"
  },
  "language_info": {
   "codemirror_mode": {
    "name": "ipython",
    "version": 3
   },
   "file_extension": ".py",
   "mimetype": "text/x-python",
   "name": "python",
   "nbconvert_exporter": "python",
   "pygments_lexer": "ipython3",
   "version": "3.8.12"
  },
  "orig_nbformat": 4,
  "vscode": {
   "interpreter": {
    "hash": "3eb0a64534b5445cc437f049ee8f0b4de335c719ef5a3378c563bfc513fc2947"
   }
  }
 },
 "nbformat": 4,
 "nbformat_minor": 2
}
